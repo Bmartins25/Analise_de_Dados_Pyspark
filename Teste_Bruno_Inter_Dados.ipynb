{
  "nbformat": 4,
  "nbformat_minor": 0,
  "metadata": {
    "colab": {
      "provenance": [],
      "authorship_tag": "ABX9TyO/UEHxDkHmmHSw4G/3I6tF",
      "include_colab_link": true
    },
    "kernelspec": {
      "name": "python3",
      "display_name": "Python 3"
    },
    "language_info": {
      "name": "python"
    }
  },
  "cells": [
    {
      "cell_type": "markdown",
      "metadata": {
        "id": "view-in-github",
        "colab_type": "text"
      },
      "source": [
        "<a href=\"https://colab.research.google.com/github/Bmartins25/Inter_Analista_Dados_Pyspark/blob/main/Teste_Bruno_Inter_Dados.ipynb\" target=\"_parent\"><img src=\"https://colab.research.google.com/assets/colab-badge.svg\" alt=\"Open In Colab\"/></a>"
      ]
    },
    {
      "cell_type": "code",
      "source": [
        "pip install pyspark\n"
      ],
      "metadata": {
        "colab": {
          "base_uri": "https://localhost:8080/"
        },
        "id": "JK-sNrfhW-7F",
        "outputId": "9551c608-5770-4077-8dd7-4ee728343533"
      },
      "execution_count": 2,
      "outputs": [
        {
          "output_type": "stream",
          "name": "stdout",
          "text": [
            "Collecting pyspark\n",
            "  Downloading pyspark-3.5.2.tar.gz (317.3 MB)\n",
            "\u001b[2K     \u001b[90m━━━━━━━━━━━━━━━━━━━━━━━━━━━━━━━━━━━━━━━━\u001b[0m \u001b[32m317.3/317.3 MB\u001b[0m \u001b[31m4.4 MB/s\u001b[0m eta \u001b[36m0:00:00\u001b[0m\n",
            "\u001b[?25h  Preparing metadata (setup.py) ... \u001b[?25l\u001b[?25hdone\n",
            "Requirement already satisfied: py4j==0.10.9.7 in /usr/local/lib/python3.10/dist-packages (from pyspark) (0.10.9.7)\n",
            "Building wheels for collected packages: pyspark\n",
            "  Building wheel for pyspark (setup.py) ... \u001b[?25l\u001b[?25hdone\n",
            "  Created wheel for pyspark: filename=pyspark-3.5.2-py2.py3-none-any.whl size=317812365 sha256=d66ef7f766146f2646ad55356220a1e176970b4ef746956d365d89bb361682f2\n",
            "  Stored in directory: /root/.cache/pip/wheels/34/34/bd/03944534c44b677cd5859f248090daa9fb27b3c8f8e5f49574\n",
            "Successfully built pyspark\n",
            "Installing collected packages: pyspark\n",
            "Successfully installed pyspark-3.5.2\n"
          ]
        }
      ]
    },
    {
      "cell_type": "code",
      "source": [
        "import pandas as pd\n",
        "from pyspark.sql import SparkSession\n",
        "import matplotlib.pyplot as plt"
      ],
      "metadata": {
        "id": "bXq9wudVDFRJ"
      },
      "execution_count": 3,
      "outputs": []
    },
    {
      "cell_type": "code",
      "source": [
        "file_path = \"/content/Base_Case_Marketplace.xlsx\"\n",
        "df_pandas = pd.read_excel(file_path, sheet_name='TesteInter')"
      ],
      "metadata": {
        "id": "9vFL3ArODI0i"
      },
      "execution_count": 4,
      "outputs": []
    },
    {
      "cell_type": "code",
      "source": [
        "# Iniciando uma sessão do Spark\n",
        "spark = SparkSession.builder.appName(\"MarketplaceAnalysis\").getOrCreate()"
      ],
      "metadata": {
        "id": "ifNG96iDDTGh"
      },
      "execution_count": 5,
      "outputs": []
    },
    {
      "cell_type": "code",
      "source": [
        "\n",
        "df_spark = spark.createDataFrame(df_pandas)"
      ],
      "metadata": {
        "id": "jxaW1noADaew"
      },
      "execution_count": 6,
      "outputs": []
    },
    {
      "cell_type": "code",
      "source": [
        "df_spark.show()"
      ],
      "metadata": {
        "colab": {
          "base_uri": "https://localhost:8080/"
        },
        "id": "5O6TmaHNDlCA",
        "outputId": "22c43595-fbfa-4677-85b8-3cc7f69a9f1b"
      },
      "execution_count": 7,
      "outputs": [
        {
          "output_type": "stream",
          "name": "stdout",
          "text": [
            "+--------+---------+--------+---------+-------+--------+-------------------+--------------+---+\n",
            "|CASHBACK|VL_COMPRA|ID_CONTA| ID_VENDA|ID_LOJA|DS_MOEDA|          DT_COMPRA|        CIDADE| UF|\n",
            "+--------+---------+--------+---------+-------+--------+-------------------+--------------+---+\n",
            "|   13.47|    96.86|20146749|600787864|  43930|     BRL|2020-11-06 13:08:34|BELO HORIZONTE| MG|\n",
            "|   10.63|    25.72|20146749|602439767|  43930|     BRL|2020-11-10 21:37:16|BELO HORIZONTE| MG|\n",
            "|   13.47|    96.86|20146749|599831099|  43930|     BRL|2020-11-03 21:54:17|BELO HORIZONTE| MG|\n",
            "|    23.6|   179.99|20041626| 1f03d2cc|  12345|     BRL|2020-11-18 23:20:33|   CACIMBINHAS| AL|\n",
            "|   31.52|    279.0|20228100| 5d9b38d4|  12345|     BRL|2020-11-19 14:13:17|        MANAUS| AM|\n",
            "|   11.74|     44.9|20228100| 95a3c89a|  12345|     BRL|2020-11-21 00:30:22|        MANAUS| AM|\n",
            "|   10.46|    19.18|20136111| 169552af|  12345|     BRL|2020-09-23 11:22:03|        MANAUS| AM|\n",
            "|   11.67|     33.9|20136111| 12e6a26a|  12345|     BRL|2020-10-15 15:08:41|        MANAUS| AM|\n",
            "|   12.39|    44.18|20136111| d021b852|  12345|     BRL|2020-10-15 20:44:22|        MANAUS| AM|\n",
            "|   18.05|    171.0|20062617| facf014a|  12345|     BRL|2020-10-06 22:16:39|      SALVADOR| BA|\n",
            "|   10.54|    20.72|20062617| e574aed4|  12345|     BRL|2020-08-14 18:31:35|      SALVADOR| BA|\n",
            "|   10.99|     29.9|20062617| ceb7b7f9|  12345|     BRL|2020-09-08 13:23:19|      SALVADOR| BA|\n",
            "|   16.38|    137.7|20087970| 27f1f34c|  12345|     BRL|2020-10-11 22:16:29|     ITABERABA| BA|\n",
            "|   19.33|   196.55|20103282| 6ea2259a|  12345|     BRL|2020-10-13 00:17:50|      SALVADOR| BA|\n",
            "|    10.6|    21.92|20103282| 10967dda|  12345|     BRL|2020-10-16 13:23:52|      SALVADOR| BA|\n",
            "|    18.5|   179.99|20103282| 638cbff0|  12345|     BRL|2020-10-12 23:18:47|      SALVADOR| BA|\n",
            "|    10.1|    11.99|20103282| 935d826b|  12345|     BRL|2020-10-06 00:29:34|      SALVADOR| BA|\n",
            "|   19.43|   198.67|20103282| 46b567c6|  12345|     BRL|2020-11-15 23:08:39|      SALVADOR| BA|\n",
            "|   13.29|     75.8|20103282| 41781a7d|  12345|     BRL|2020-09-11 14:37:23|      SALVADOR| BA|\n",
            "|    10.3|    15.95|20103282| 53e99ca1|  12345|     BRL|2020-08-12 14:24:58|      SALVADOR| BA|\n",
            "+--------+---------+--------+---------+-------+--------+-------------------+--------------+---+\n",
            "only showing top 20 rows\n",
            "\n"
          ]
        }
      ]
    },
    {
      "cell_type": "code",
      "source": [
        "from pyspark.sql import functions as F\n",
        "\n",
        "# 1. Quais são as lojas que nossos clientes mais compram?\n",
        "lojas_populares = df_spark.groupBy(\"ID_LOJA\").agg(F.count(\"ID_VENDA\").alias(\"total_compras\")).orderBy(F.col(\"total_compras\").desc())\n",
        "\n",
        "# Exibindo o resultado das lojas mais populares\n",
        "print(\"1. Lojas que nossos clientes mais compram:\")\n",
        "lojas_populares.show()\n",
        "\n",
        "# 2. Existe algum padrão ou tendência relevante nas compras de nossos clientes?\n",
        "# Extraindo ano e mês da coluna de data\n",
        "df_spark = df_spark.withColumn(\"ano\", F.year(\"DT_COMPRA\")).withColumn(\"mes\", F.month(\"DT_COMPRA\"))\n",
        "\n",
        "tendencia_compras = df_spark.groupBy(\"ano\", \"mes\").agg(F.count(\"ID_VENDA\").alias(\"total_compras\")).orderBy(\"ano\", \"mes\")\n",
        "\n",
        "# Exibindo a tendência de compras ao longo do tempo\n",
        "print(\"\\n2. Tendência de compras ao longo do tempo:\")\n",
        "tendencia_compras.show()\n",
        "\n",
        "# 3. Existe um aumento nas vendas ao longo do tempo?\n",
        "# Para verificar o aumento nas vendas, vamos ordenar pelo total de compras\n",
        "aumento_vendas = tendencia_compras.orderBy(F.col(\"total_compras\").desc())\n",
        "\n",
        "# Exibindo o aumento nas vendas\n",
        "print(\"\\n3. Aumento nas vendas ao longo do tempo:\")\n",
        "aumento_vendas.show()\n",
        "\n",
        "# 4. Qual é o valor médio de compras dos nossos clientes?\n",
        "valor_medio_compras = df_spark.agg(F.avg(\"VL_COMPRA\").alias(\"valor_medio_compra\"))\n",
        "\n",
        "# Exibindo o valor médio das compras\n",
        "print(\"\\n4. Valor médio de compras dos clientes:\")\n",
        "valor_medio_compras.show()\n",
        "\n",
        "# 5. Qual é o percentual médio de cashback que nossos clientes recebem?\n",
        "df_spark = df_spark.withColumn(\"percentual_cashback\", (F.col(\"CASHBACK\") / F.col(\"VL_COMPRA\")) * 100)\n",
        "percentual_cashback_medio = df_spark.agg(F.avg(\"percentual_cashback\").alias(\"media_percentual_cashback\"))\n",
        "percentual_cashback_medio_pd = percentual_cashback_medio.toPandas()\n",
        "\n",
        "# Exibindo o percentual médio de cashback recebido pelos clientes\n",
        "print(\"\\n5. Percentual médio de cashback recebido pelos clientes:\")\n",
        "percentual_cashback_medio.show()\n",
        "\n",
        "\n",
        "# Gráfico de barras para valor médio de compras e cashback\n",
        "fig, ax = plt.subplots(1, 2, figsize=(6, 6))\n",
        "\n",
        "# Valor médio de compras\n",
        "ax[0].bar(['Valor Médio de Compra'], valor_medio_compras_pd['valor_medio_compra'], color='skyblue')\n",
        "ax[0].set_title('Valor Médio de Compra')\n",
        "ax[0].set_ylabel('Valor (R$)')\n",
        "\n",
        "# Percentual médio de cashback\n",
        "ax[1].bar(['Percentual Médio de Cashback'], percentual_cashback_medio_pd['media_percentual_cashback'], color='skyblue')\n",
        "ax[1].set_title('Percentual Médio de Cashback')\n",
        "ax[1].set_ylabel('Percentual (%)')\n",
        "\n",
        "plt.tight_layout()\n",
        "plt.show()\n"
      ],
      "metadata": {
        "colab": {
          "base_uri": "https://localhost:8080/",
          "height": 1000
        },
        "id": "pPqKkV56ZQjG",
        "outputId": "1329653c-f76b-49b9-9fb1-8401cdd09101"
      },
      "execution_count": 19,
      "outputs": [
        {
          "output_type": "stream",
          "name": "stdout",
          "text": [
            "1. Lojas que nossos clientes mais compram:\n",
            "+-------+-------------+\n",
            "|ID_LOJA|total_compras|\n",
            "+-------+-------------+\n",
            "|  12345|       115539|\n",
            "|  54321|        27679|\n",
            "|  21345|        25192|\n",
            "|  37758|        16473|\n",
            "|  12230|        12578|\n",
            "|  35258|        12138|\n",
            "|  35344|        10618|\n",
            "|  35638|        10425|\n",
            "|  24156|         6809|\n",
            "|  32145|         6572|\n",
            "|  35684|         4407|\n",
            "|  35612|         4384|\n",
            "|  43215|         3780|\n",
            "|  35394|         3739|\n",
            "|  35614|         2842|\n",
            "|  35330|         2599|\n",
            "|  21540|         2566|\n",
            "|  35304|         2545|\n",
            "|  38082|         2487|\n",
            "|  24780|         2264|\n",
            "+-------+-------------+\n",
            "only showing top 20 rows\n",
            "\n",
            "\n",
            "2. Tendência de compras ao longo do tempo:\n",
            "+----+---+-------------+\n",
            "| ano|mes|total_compras|\n",
            "+----+---+-------------+\n",
            "|2020|  7|        15440|\n",
            "|2020|  8|        50673|\n",
            "|2020|  9|        51461|\n",
            "|2020| 10|        95875|\n",
            "|2020| 11|        94227|\n",
            "+----+---+-------------+\n",
            "\n",
            "\n",
            "3. Aumento nas vendas ao longo do tempo:\n",
            "+----+---+-------------+\n",
            "| ano|mes|total_compras|\n",
            "+----+---+-------------+\n",
            "|2020| 10|        95875|\n",
            "|2020| 11|        94227|\n",
            "|2020|  9|        51461|\n",
            "|2020|  8|        50673|\n",
            "|2020|  7|        15440|\n",
            "+----+---+-------------+\n",
            "\n",
            "\n",
            "4. Valor médio de compras dos clientes:\n",
            "+------------------+\n",
            "|valor_medio_compra|\n",
            "+------------------+\n",
            "|1326784.6337689417|\n",
            "+------------------+\n",
            "\n",
            "\n",
            "5. Percentual médio de cashback recebido pelos clientes:\n",
            "+-------------------------+\n",
            "|media_percentual_cashback|\n",
            "+-------------------------+\n",
            "|        20.23231476873425|\n",
            "+-------------------------+\n",
            "\n"
          ]
        },
        {
          "output_type": "display_data",
          "data": {
            "text/plain": [
              "<Figure size 600x600 with 2 Axes>"
            ],
            "image/png": "[encoded data removed]"
          },
          "metadata": {}
        }
      ]
    }
  ]
}